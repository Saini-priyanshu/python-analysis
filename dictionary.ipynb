{
 "cells": [
  {
   "cell_type": "code",
   "execution_count": 2,
   "metadata": {},
   "outputs": [
    {
     "name": "stdout",
     "output_type": "stream",
     "text": [
      "{'name': 'john cena', 'class': '2nd', 'rollno': 21, 'marks': 90}\n"
     ]
    }
   ],
   "source": [
    "student ={\n",
    "    'name':'john cena',\n",
    "    'class':'2nd',\n",
    "    'rollno':21,\n",
    "    'marks':90\n",
    "}\n",
    "print(student)"
   ]
  },
  {
   "cell_type": "code",
   "execution_count": 3,
   "metadata": {},
   "outputs": [
    {
     "name": "stdout",
     "output_type": "stream",
     "text": [
      "john cena\n",
      "2nd\n"
     ]
    }
   ],
   "source": [
    "print(student['name'])\n",
    "print(student['class'])"
   ]
  },
  {
   "cell_type": "code",
   "execution_count": 4,
   "metadata": {},
   "outputs": [
    {
     "name": "stdout",
     "output_type": "stream",
     "text": [
      "{'name': 'john cena', 'class': '2nd', 'rollno': 21, 'marks': 90, 'school': 'CMS', 'father': 'raja babu'}\n"
     ]
    }
   ],
   "source": [
    "#add data\n",
    "student['school']='CMS'\n",
    "student['father']='raja babu'\n",
    "print(student)"
   ]
  },
  {
   "cell_type": "code",
   "execution_count": 5,
   "metadata": {},
   "outputs": [
    {
     "name": "stdout",
     "output_type": "stream",
     "text": [
      "{'name': 'john cena', 'class': '3rd class', 'rollno': 21, 'marks': 90, 'school': 'CMS', 'father': 'raja babu'}\n"
     ]
    }
   ],
   "source": [
    "#update an entry\n",
    "student['class']='3rd class'\n",
    "print(student)"
   ]
  },
  {
   "cell_type": "code",
   "execution_count": 6,
   "metadata": {},
   "outputs": [
    {
     "name": "stdout",
     "output_type": "stream",
     "text": [
      "{'name': 'ramayan', 'vilain': 'ravan', 'brother': 'laxman', 'friend': 'Hanuman', 'wife': 'sita', 'father': 'dasrath'}\n"
     ]
    }
   ],
   "source": [
    "serial={\n",
    "    'name':'ramayan',\n",
    "    'vilain':'ravan',\n",
    "    'brother':'laxman',\n",
    "    'friend':'Hanuman',\n",
    "    'wife':'sita',\n",
    "    'father':'dasrath',\n",
    "}\n",
    "print(serial)"
   ]
  },
  {
   "cell_type": "code",
   "execution_count": 7,
   "metadata": {},
   "outputs": [
    {
     "name": "stdout",
     "output_type": "stream",
     "text": [
      "name\n",
      "vilain\n",
      "brother\n",
      "friend\n",
      "wife\n",
      "father\n"
     ]
    }
   ],
   "source": [
    "for key in serial:\n",
    "    print(key)"
   ]
  },
  {
   "cell_type": "code",
   "execution_count": 8,
   "metadata": {},
   "outputs": [
    {
     "name": "stdout",
     "output_type": "stream",
     "text": [
      "name ramayan\n",
      "vilain ravan\n",
      "brother laxman\n",
      "friend Hanuman\n",
      "wife sita\n",
      "father dasrath\n"
     ]
    }
   ],
   "source": [
    "for key in serial:\n",
    "    print(key,serial[key])"
   ]
  },
  {
   "cell_type": "code",
   "execution_count": null,
   "metadata": {},
   "outputs": [],
   "source": []
  }
 ],
 "metadata": {
  "kernelspec": {
   "display_name": "base",
   "language": "python",
   "name": "python3"
  },
  "language_info": {
   "codemirror_mode": {
    "name": "ipython",
    "version": 3
   },
   "file_extension": ".py",
   "mimetype": "text/x-python",
   "name": "python",
   "nbconvert_exporter": "python",
   "pygments_lexer": "ipython3",
   "version": "3.10.8"
  },
  "orig_nbformat": 4
 },
 "nbformat": 4,
 "nbformat_minor": 2
}
