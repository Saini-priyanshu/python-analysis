{
 "cells": [
  {
   "cell_type": "code",
   "execution_count": 1,
   "metadata": {},
   "outputs": [],
   "source": [
    "from dputils.scrape import Scraper,Tag"
   ]
  },
  {
   "cell_type": "code",
   "execution_count": 7,
   "metadata": {},
   "outputs": [
    {
     "data": {
      "text/plain": [
       "<title>Amazon.in : phones</title>"
      ]
     },
     "execution_count": 7,
     "metadata": {},
     "output_type": "execute_result"
    }
   ],
   "source": [
    "page=1\n",
    "query='phones'\n",
    "webpage = Scraper(f'https://www.amazon.in/s?k={query}&page={page}')\n",
    "webpage.soup.title"
   ]
  },
  {
   "cell_type": "code",
   "execution_count": 9,
   "metadata": {},
   "outputs": [
    {
     "data": {
      "text/plain": [
       "[{'name': None, 'price': None},\n",
       " {'name': None, 'price': None},\n",
       " {'name': \"iQOO Z7 5G by vivo (Pacific Night, 6GB RAM, 128GB Storage) | Dimensity 920 5G 6nm Processor | 64MP OIS Ultra Stable Camera | Segment's Brightest AMOLED Display | 44W FlashCharge  \",\n",
       "  'price': '18,999'},\n",
       " {'name': 'Apple iPhone 13 (128GB) - Blue  ', 'price': '61,999'},\n",
       " {'name': 'OPPO A74 5G (Fantastic Purple,6GB RAM,128GB Storage) with No Cost EMI/Additional Exchange Offers  ',\n",
       "  'price': '15,740'},\n",
       " {'name': 'Nokia C12 Android 12 (Go Edition) Smartphone, All-Day Battery, 4GB RAM (2GB RAM + 2GB Virtual RAM) + 64GB Capacity | Light Mint  ',\n",
       "  'price': '5,999'},\n",
       " {'name': 'Redmi Note 12 5G Mystique Blue 6GB RAM 128GB ROM | 1st Phone with 120Hz Super AMOLED and Snapdragon® 4 Gen 1 | 48MP AI Triple Camera  ',\n",
       "  'price': '19,999'},\n",
       " {'name': 'Samsung Galaxy S20 FE 5G (Cloud Mint, 8GB RAM, 128GB Storage)  ',\n",
       "  'price': '34,999'},\n",
       " {'name': None, 'price': None},\n",
       " {'name': 'Redmi Note 12 5G Matte Black 6GB RAM 128GB ROM | 1st Phone with 120Hz Super AMOLED and Snapdragon® 4 Gen 1 | 48MP AI Triple Camera  ',\n",
       "  'price': '19,999'},\n",
       " {'name': 'Redmi 9A Sport (Coral Green, 2GB RAM, 32GB Storage) | 2GHz Octa-core Helio G25 Processor | 5000 mAh Battery  ',\n",
       "  'price': '6,499'},\n",
       " {'name': 'Redmi 10A (Charcoal Black, 4GB RAM, 64GB Storage) | 2 Ghz Octa Core Helio G25 | 5000 mAh Battery | Finger Print Sensor | Upto 5GB RAM with RAM Booster  ',\n",
       "  'price': '8,799'},\n",
       " {'name': 'Redmi Note 11T 5G (Stardust White, 8GB RAM, 128GB ROM) | Dimensity 810 5G | 33W Pro Fast Charging | Charger Included | Additional Exchange Offers| Get 2 Months of YouTube Premium Free!  ',\n",
       "  'price': '18,499'},\n",
       " {'name': 'Nokia 2660 Flip 4G Volte keypad Phone with Dual SIM, Dual Screen, inbuilt MP3 Player & Wireless FM Radio | Black  ',\n",
       "  'price': '4,499'},\n",
       " {'name': 'Apple iPhone 14 Pro (1 TB) - Gold  ', 'price': '1,73,099'},\n",
       " {'name': 'Apple iPhone 14 Pro Max (1 TB) - Gold  ', 'price': '1,89,900'},\n",
       " {'name': 'Redmi A1 (Light Green, 2GB RAM 32GB ROM) | Segment Best AI Dual Cam | 5000mAh Battery | Leather Texture Design | Android 12  ',\n",
       "  'price': '5,899'},\n",
       " {'name': None, 'price': None},\n",
       " {'name': 'Samsung Galaxy M04 Dark Blue, 4GB RAM, 64GB Storage | Upto 8GB RAM with RAM Plus | MediaTek Helio P35 | 5000 mAh Battery  ',\n",
       "  'price': '7,499'},\n",
       " {'name': 'Redmi A1 (Black, 2GB RAM, 32GB Storage) | Segment Best AI Dual Cam | 5000mAh Battery | Leather Texture Design | Android 12  ',\n",
       "  'price': '5,899'},\n",
       " {'name': 'Redmi 11 Prime 5G (Chrome Silver, 4GB RAM 64GB ROM) | Prime Design | MTK Dimensity 700 | 50 MP Dual Cam | 5000mAh | 7 Band 5G  ',\n",
       "  'price': '13,499'},\n",
       " {'name': \"iQOO Z7 5G by vivo (Norway Blue, 8GB RAM, 128GB Storage) | Dimensity 920 5G 6nm Processor | 64MP OIS Ultra Stable Camera | Segment's Brightest AMOLED Display | 44W FlashCharge  \",\n",
       "  'price': '19,999'},\n",
       " {'name': 'Redmi A1 (Light Blue, 2GB RAM, 32GB Storage) | Segment Best AI Dual Cam | 5000mAh Battery | Leather Texture Design | Android 12  ',\n",
       "  'price': '5,899'},\n",
       " {'name': 'Samsung Galaxy M13 (Aqua Green, 4GB, 64GB Storage) | 6000mAh Battery | Upto 8GB RAM with RAM Plus  ',\n",
       "  'price': '10,999'},\n",
       " {'name': 'realme narzo 50i (Carbon Black, 4GB RAM+64GB Storage) Octa Core Processor | 6.5\" inch Large Display  ',\n",
       "  'price': '8,999'},\n",
       " {'name': 'Apple iPhone SE (64 GB) - Starlight (3rd Generation)  ',\n",
       "  'price': '49,900'},\n",
       " {'name': 'Apple iPhone 13 Mini (512 GB) - Green  ', 'price': '89,999'},\n",
       " {'name': 'OPPO A74 5G (Fantastic Purple,6GB RAM,128GB Storage) with No Cost EMI/Additional Exchange Offers  ',\n",
       "  'price': '15,740'},\n",
       " {'name': 'OPPO A74 5G (Fantastic Purple,6GB RAM,128GB Storage) with No Cost EMI/Additional Exchange Offers  ',\n",
       "  'price': '15,740'},\n",
       " {'name': 'Redmi 9A Sport (Coral Green, 2GB RAM, 32GB Storage) | 2GHz Octa-core Helio G25 Processor | 5000 mAh Battery  ',\n",
       "  'price': '6,499'},\n",
       " {'name': 'Motorola a10 Dual Sim keypad Mobile with 1750 mAh Battery, Expandable Storage Upto 32GB, Wireless FM with Recording - Rose Gold  ',\n",
       "  'price': '1,399'},\n",
       " {'name': 'Redmi Note 11T 5G (Stardust White, 8GB RAM, 128GB ROM) | Dimensity 810 5G | 33W Pro Fast Charging | Charger Included | Additional Exchange Offers| Get 2 Months of YouTube Premium Free!  ',\n",
       "  'price': '18,499'},\n",
       " {'name': 'EGOTUDE Silicone Soft Case Camera Protection Microfiber Lining Back Cover for iPhone 14 Pro Max (Deep Purple)  ',\n",
       "  'price': '269'},\n",
       " {'name': 'Elzzi Microfiber Logo Cut Cover Compatible for iPhone 13 Case Cushion Liquid Soft Silicone Gel Rubber Phone Cases Non-Slip Full Body Protective Shockproof Back Cover 6.1 inch, Mist Blue  ',\n",
       "  'price': '299'},\n",
       " {'name': 'LOXXO® Compatible with iPhone 14 Pro Max Case, Liquid Silicone Case, Full Body Protective Cover, Shockproof, Slim Phone Case, Anti-Scratch Soft Microfiber Lining, 6.7 inch - Deep Purple  ',\n",
       "  'price': '390'},\n",
       " {'name': 'TheGiftKart Genuine Liquid Silicone Back Cover Case for iPhone 14 PRO | Soft Micro-Fibre Lining Inside | Camera Protection Bump | Shockproof Back Cover Case for iPhone 14 Pro (Deep Purple)  ',\n",
       "  'price': '279'},\n",
       " {'name': None, 'price': None},\n",
       " {'name': None, 'price': None},\n",
       " {'name': None, 'price': None}]"
      ]
     },
     "execution_count": 9,
     "metadata": {},
     "output_type": "execute_result"
    }
   ],
   "source": [
    "target= Tag('div',cls='s-main-slot s-result-list s-search-results sg-row') \n",
    "items=Tag('div',cls='s-result-item')\n",
    "title=Tag('h2')\n",
    "price=Tag('span',cls='a-price-whole')\n",
    "rating=Tag()\n",
    "webpage.get_all(target,items,name=title,price=price)"
   ]
  },
  {
   "cell_type": "code",
   "execution_count": null,
   "metadata": {},
   "outputs": [],
   "source": []
  }
 ],
 "metadata": {
  "kernelspec": {
   "display_name": "base",
   "language": "python",
   "name": "python3"
  },
  "language_info": {
   "codemirror_mode": {
    "name": "ipython",
    "version": 3
   },
   "file_extension": ".py",
   "mimetype": "text/x-python",
   "name": "python",
   "nbconvert_exporter": "python",
   "pygments_lexer": "ipython3",
   "version": "3.10.8"
  },
  "orig_nbformat": 4
 },
 "nbformat": 4,
 "nbformat_minor": 2
}
