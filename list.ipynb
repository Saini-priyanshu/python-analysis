{
 "cells": [
  {
   "attachments": {},
   "cell_type": "markdown",
   "metadata": {},
   "source": [
    "DATA STRUCTURE\n",
    "LIST-ORDERED DS,INDEXED,MUTABLE,DUPLICATE ALLOWED,'[]'\n",
    "TUPLE-ORDERED ,INDEXED,**IMMUTABLE**,DUPLICATE ALLOWED,'()'\n",
    "SET-UNORDERED,UNINDEXED,MUTABLE,**ONLY UNIQUE ELEMENTS**,'{}'\n",
    "DICT-ORDERED,UNINDEXED,MUTABLE,**KEY:VALUE PAIRS**,DUPLICATE VA;UES ALLOWED,'{}"
   ]
  },
  {
   "cell_type": "code",
   "execution_count": 1,
   "metadata": {},
   "outputs": [
    {
     "name": "stdout",
     "output_type": "stream",
     "text": [
      "[]\n",
      "[2, 3, 1, 36, 62]\n",
      "['a', 'b', 'c', 'd']\n",
      "[1, 'a', 2, 'b', 3, 'c', 4, 'd']\n",
      "[1, 2, [3, 4], [5, 6]]\n"
     ]
    }
   ],
   "source": [
    "x=[]\n",
    "print(x)\n",
    "y=[2,3,1,36,62]\n",
    "print(y)\n",
    "z=['a','b','c','d']\n",
    "print(z)\n",
    "w=[1,'a',2,'b',3,'c',4,'d']\n",
    "print(w)\n",
    "v=[1,2,[3,4],[5,6]]\n",
    "print(v)"
   ]
  },
  {
   "cell_type": "code",
   "execution_count": 3,
   "metadata": {},
   "outputs": [
    {
     "name": "stdout",
     "output_type": "stream",
     "text": [
      "[100, 100]\n"
     ]
    }
   ],
   "source": [
    "x.append(100)\n",
    "print(x)"
   ]
  },
  {
   "cell_type": "code",
   "execution_count": 4,
   "metadata": {},
   "outputs": [
    {
     "name": "stdout",
     "output_type": "stream",
     "text": [
      "[2, 3, 1, 36, 62, 5]\n"
     ]
    }
   ],
   "source": [
    "y.append(5)\n",
    "print(y)"
   ]
  },
  {
   "cell_type": "code",
   "execution_count": 5,
   "metadata": {},
   "outputs": [
    {
     "name": "stdout",
     "output_type": "stream",
     "text": [
      "[2, 3, 1, 62, 5]\n"
     ]
    }
   ],
   "source": [
    "y.remove(36)\n",
    "print(y)"
   ]
  },
  {
   "cell_type": "code",
   "execution_count": null,
   "metadata": {},
   "outputs": [],
   "source": []
  }
 ],
 "metadata": {
  "kernelspec": {
   "display_name": "base",
   "language": "python",
   "name": "python3"
  },
  "language_info": {
   "codemirror_mode": {
    "name": "ipython",
    "version": 3
   },
   "file_extension": ".py",
   "mimetype": "text/x-python",
   "name": "python",
   "nbconvert_exporter": "python",
   "pygments_lexer": "ipython3",
   "version": "3.10.8"
  },
  "orig_nbformat": 4
 },
 "nbformat": 4,
 "nbformat_minor": 2
}
